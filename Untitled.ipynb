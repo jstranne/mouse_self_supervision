{
 "cells": [
  {
   "cell_type": "code",
   "execution_count": 2,
   "metadata": {},
   "outputs": [
    {
     "name": "stdout",
     "output_type": "stream",
     "text": [
      "<class 'dict'>\n",
      "{'__header__': b'MATLAB 5.0 MAT-file, Platform: PCWIN64, Created on: Mon Dec 29 09:56:07 2014', '__version__': '1.0', '__globals__': [], 'INT_TIME': array([[ 319,  300, 1010,  600]], dtype=uint16)}\n",
      "[ 319  300 1010  600]\n"
     ]
    }
   ],
   "source": [
    "from scipy.io import loadmat\n",
    "x = loadmat('MouseCKY8_112614_HCOFTS_LFP.mat')\n",
    "time = loadmat('MouseCKZ1_122814_HCOFTS_TIME.mat')\n",
    "print(type(x))\n",
    "mDHip_02 = x[\"mDHip_02\"]\n",
    "tail_suspension = x[\"TailSuspension\"]\n",
    "print(time)\n",
    "fs = 1000 #sampling freq\n",
    "time = time['INT_TIME'][0]\n",
    "print(time)"
   ]
  },
  {
   "cell_type": "code",
   "execution_count": 17,
   "metadata": {},
   "outputs": [
    {
     "name": "stdout",
     "output_type": "stream",
     "text": [
      "[ 326  300 1122  600]\n"
     ]
    }
   ],
   "source": [
    "time = loadmat(\"Mouse_Training_Data//INT_TIME/MouseCKA1_030515_HCOFTS_TIME.mat\")\n",
    "print(time['INT_TIME'][0])"
   ]
  },
  {
   "cell_type": "code",
   "execution_count": 12,
   "metadata": {},
   "outputs": [],
   "source": [
    "x=loadmat(\"Mouse_Training_Data/LFP_Data/MouseCKX5_112114_HCOFTS_LFP.mat\")"
   ]
  },
  {
   "cell_type": "code",
   "execution_count": 18,
   "metadata": {},
   "outputs": [
    {
     "name": "stdout",
     "output_type": "stream",
     "text": [
      "(1612781,)\n"
     ]
    },
    {
     "data": {
      "text/plain": [
       "[<matplotlib.lines.Line2D at 0x7fc069406210>]"
      ]
     },
     "execution_count": 18,
     "metadata": {},
     "output_type": "execute_result"
    },
    {
     "data": {
      "image/png": "[encoded data removed]",
      "text/plain": [
       "<Figure size 432x288 with 1 Axes>"
      ]
     },
     "metadata": {
      "needs_background": "light"
     },
     "output_type": "display_data"
    }
   ],
   "source": [
    "from matplotlib import pyplot as plt\n",
    "import numpy as np\n",
    "%matplotlib inline\n",
    "\n",
    "s = np.array(mDHip_02[0,:])\n",
    "print(s.shape)\n",
    "plt.plot(s[:1000])\n"
   ]
  },
  {
   "cell_type": "code",
   "execution_count": 13,
   "metadata": {},
   "outputs": [
    {
     "name": "stdout",
     "output_type": "stream",
     "text": [
      "__header__\n",
      "__version__\n",
      "__globals__\n",
      "PrL_Cx_01\n",
      "PrL_Cx_02\n",
      "PrL_Cx_03\n",
      "PrL_Cx_04\n",
      "PrL_Cx_05\n",
      "PrL_Cx_06\n",
      "PrL_Cx_07\n",
      "PrL_Cx_08\n",
      "IL_Cx_01\n",
      "IL_Cx_02\n",
      "IL_Cx_03\n",
      "IL_Cx_04\n",
      "IL_Cx_05\n",
      "IL_Cx_06\n",
      "IL_Cx_07\n",
      "IL_Cx_08\n",
      "Acb_Sh_01\n",
      "Acb_Sh_02\n",
      "Acb_Sh_03\n",
      "Acb_Sh_04\n",
      "Acb_Core_01\n",
      "Acb_Core_03\n",
      "Acb_Core_04\n",
      "BLA_01\n",
      "BLA_02\n",
      "BLA_03\n",
      "BLA_04\n",
      "BLA_05\n",
      "BLA_06\n",
      "BLA_07\n",
      "BLA_08\n",
      "lDHip_01\n",
      "lDHip_02\n",
      "lDHip_03\n",
      "lDHip_04\n",
      "lDHip_05\n",
      "lDHip_06\n",
      "mDHip_01\n",
      "mDHip_02\n",
      "mDHip_03\n",
      "mDHip_04\n",
      "mDHip_05\n",
      "mDHip_06\n",
      "Md_Thal_01\n",
      "Md_Thal_02\n",
      "Md_Thal_03\n",
      "Md_Thal_04\n",
      "pl_LH_Hab_01\n",
      "pmLH_Hab_02\n",
      "alLH_Hab_03\n",
      "amLH_Hab_04\n",
      "lSNC_01\n",
      "lSNC_02\n",
      "mSNC_01\n",
      "mSNC_02\n",
      "R_VTA_01\n",
      "R_VTA_02\n",
      "R_VTA_03\n",
      "R_VTA_04\n",
      "L_VTA_01\n",
      "L_VTA_02\n",
      "L_VTA_03\n",
      "L_VTA_04\n",
      "TailSuspension\n"
     ]
    }
   ],
   "source": [
    "for key in x:\n",
    "    print(key)\n",
    "    # PrL_Cx    YES\n",
    "    # IL_Cx     YES\n",
    "    # Acb_Sh    YES\n",
    "    # Acb_Core  YES\n",
    "    # BLA       YES\n",
    "    # lDHip     YES\n",
    "    # mDHip     YES\n",
    "    # Md_Thal   YES\n",
    "    # pl_LH_Hab \n",
    "    # pmLH_Hab\n",
    "    # alLH_Hab\n",
    "    # amLH_Hab\n",
    "    # lSNC      YES\n",
    "    # mSNC      YES\n",
    "    # R_VTA_01   COMBINE WITH LEFT\n",
    "    # L_VTA_04\n",
    "    #[OFT_START, OFT_DURATION, TST_START, TST_DURATION]\n",
    "    "
   ]
  },
  {
   "cell_type": "code",
   "execution_count": 14,
   "metadata": {},
   "outputs": [
    {
     "name": "stdout",
     "output_type": "stream",
     "text": [
      "PrL_Cx\n",
      "PrL_Cx\n",
      "PrL_Cx\n",
      "PrL_Cx\n",
      "PrL_Cx\n",
      "PrL_Cx\n",
      "PrL_Cx\n",
      "PrL_Cx\n",
      "IL_Cx\n",
      "IL_Cx\n",
      "IL_Cx\n",
      "IL_Cx\n",
      "IL_Cx\n",
      "IL_Cx\n",
      "IL_Cx\n",
      "IL_Cx\n",
      "Acb_Sh\n",
      "Acb_Sh\n",
      "Acb_Sh\n",
      "Acb_Sh\n",
      "Acb_Core\n",
      "Acb_Core\n",
      "Acb_Core\n",
      "BLA\n",
      "BLA\n",
      "BLA\n",
      "BLA\n",
      "BLA\n",
      "BLA\n",
      "BLA\n",
      "BLA\n",
      "lDHip\n",
      "lDHip\n",
      "lDHip\n",
      "lDHip\n",
      "lDHip\n",
      "lDHip\n",
      "mDHip\n",
      "mDHip\n",
      "mDHip\n",
      "mDHip\n",
      "mDHip\n",
      "mDHip\n",
      "Md_Thal\n",
      "Md_Thal\n",
      "Md_Thal\n",
      "Md_Thal\n",
      "pl_LH_Hab\n",
      "pmLH_Hab\n",
      "alLH_Hab\n",
      "amLH_Hab\n",
      "lSNC\n",
      "lSNC\n",
      "mSNC\n",
      "mSNC\n",
      "R_VTA\n",
      "R_VTA\n",
      "R_VTA\n",
      "R_VTA\n",
      "L_VTA\n",
      "L_VTA\n",
      "L_VTA\n",
      "L_VTA\n",
      "dict_keys(['PrL_Cx', 'Md_Thal', 'IL_Cx', 'BLA', 'Acb_Sh', 'Acb_Core', 'mSNC', 'mDHip', 'lSNC', 'lDHip', 'VTA'])\n",
      "(8, 1, 1613012)\n",
      "(4, 1, 1613012)\n",
      "(8, 1, 1613012)\n",
      "(8, 1, 1613012)\n",
      "(4, 1, 1613012)\n",
      "(3, 1, 1613012)\n",
      "(2, 1, 1613012)\n",
      "(6, 1, 1613012)\n",
      "(2, 1, 1613012)\n",
      "(6, 1, 1613012)\n",
      "(8, 1, 1613012)\n",
      "(1613012,)\n",
      "(1613012,)\n",
      "(1613012,)\n",
      "(1613012,)\n",
      "(1613012,)\n",
      "(1613012,)\n",
      "(1613012,)\n",
      "(1613012,)\n",
      "(1613012,)\n",
      "(1613012,)\n",
      "(1613012,)\n",
      "(11, 1200000)\n"
     ]
    }
   ],
   "source": [
    "data_map = {}\n",
    "import numpy as np\n",
    "desired_keys = [\"PrL_Cx\", \"Md_Thal\", \"IL_Cx\", \"BLA\", \"Acb_Sh\", \"Acb_Core\", \"mSNC\", \"mDHip\", \"lSNC\", \"lDHip\", \"L_VTA\", \"R_VTA\"]\n",
    "for k in desired_keys:\n",
    "    data_map[k] = []\n",
    "    \n",
    "for key in x:\n",
    "    if \"_\" in key and key[-1]!=\"_\":\n",
    "        newkey = key[:key.rindex(\"_\")]\n",
    "        print(newkey)\n",
    "        if newkey in data_map:\n",
    "            data_map[newkey].append(x[key])\n",
    "            \n",
    "data_map[\"VTA\"] = data_map[\"L_VTA\"] + data_map[\"R_VTA\"]\n",
    "del data_map[\"L_VTA\"]\n",
    "del data_map[\"R_VTA\"]\n",
    "\n",
    "print(data_map.keys())\n",
    "for key in data_map:\n",
    "    print(np.array(data_map[key]).shape)\n",
    "    data_map[key] = np.mean(np.array(data_map[key]), axis=0).ravel()\n",
    "for key in data_map:\n",
    "    print(np.array(data_map[key]).shape)\n",
    "\n",
    "starts_and_stops=np.r_[0:300*fs,time[0]*fs:(time[0]+time[1])*fs, time[2]*fs:(time[2]+time[3])*fs]\n",
    "\n",
    "ans= np.array([data_map[k][starts_and_stops] for k in data_map]) \n",
    "print(ans.shape)"
   ]
  },
  {
   "cell_type": "code",
   "execution_count": 10,
   "metadata": {},
   "outputs": [
    {
     "name": "stdout",
     "output_type": "stream",
     "text": [
      "{'a': [1, 2, 3], 'b': [3, 4, 5, 6], 'c': [1, 2, 3, 3, 4, 5, 6]}\n",
      "{'b': [3, 4, 5, 6], 'c': [1, 2, 3, 3, 4, 5, 6]}\n"
     ]
    }
   ],
   "source": [
    "m={}\n",
    "m['a']=[1,2,3]\n",
    "m['b']=[3,4,5,6]\n",
    "m['c']=a+b\n",
    "print(m)\n",
    "del m['a']\n",
    "print(m)"
   ]
  },
  {
   "cell_type": "markdown",
   "metadata": {},
   "source": [
    "(['PrL_Cx', 'IL_Cx', 'Acb_Sh', 'Acb_Core', 'BLA', 'lDHip', 'mDHip', 'Md_Thal', 'pl_LH_Hab', 'pmLH_Hab', 'alLH_Hab', 'amLH_Hab', 'lSNC', 'mSNC', 'R_VTA', 'L_VTA'])"
   ]
  }
 ],
 "metadata": {
  "kernelspec": {
   "display_name": "Python 3",
   "language": "python",
   "name": "python3"
  },
  "language_info": {
   "codemirror_mode": {
    "name": "ipython",
    "version": 3
   },
   "file_extension": ".py",
   "mimetype": "text/x-python",
   "name": "python",
   "nbconvert_exporter": "python",
   "pygments_lexer": "ipython3",
   "version": "3.7.6"
  }
 },
 "nbformat": 4,
 "nbformat_minor": 4
}
